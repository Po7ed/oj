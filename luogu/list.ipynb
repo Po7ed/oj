{
 "cells": [
  {
   "cell_type": "markdown",
   "metadata": {},
   "source": [
    "### P4462 [CQOI2018] 异或序列\n",
    "\n",
    "已知一个长度为 $n$ 的整数数列 $a_1,a_2,\\dots,a_n$，给定查询参数 $l,r$，问在 $a_l,a_{l+1},\\dots,a_r$ 区间内，有多少子区间满足异或和等于 $k$。也就是说，对于所有的 $x,y (l \\leq x \\leq y \\leq r)$，能够满足 $a_x \\oplus a_{x+1} \\oplus \\dots \\oplus a_y = k$ 的 $x,y$ 有多少组。\n",
    "\n",
    "考虑前缀和，转换成对于所有的 $x,y (l \\leq x \\leq y \\leq r)$，能够满足 $a_{x-1} \\oplus a_y = k$ 的 $x,y$ 有多少组。\n",
    "\n",
    "每当删除一个 $a_i$ 时，删除后将 $now\\gets now-\\operatorname{cnt}(k\\oplus a_i)$。\n",
    "\n",
    "每当添加一个 $a_i$ 时，将 $now\\gets now+\\operatorname{cnt}(k\\oplus a_i)$ 后添加。"
   ]
  },
  {
   "cell_type": "markdown",
   "metadata": {},
   "source": [
    "### P2756 飞行员配对方案问题\n",
    "\n",
    "$m$ 个外籍飞行员和 $(n-m)$ 个英国飞行员进行二分图最大匹配。\n",
    "\n",
    "板子？"
   ]
  }
 ],
 "metadata": {
  "language_info": {
   "name": "python"
  }
 },
 "nbformat": 4,
 "nbformat_minor": 2
}
