{
 "cells": [
  {
   "cell_type": "markdown",
   "metadata": {},
   "source": [
    "## P2756 飞行员配对方案问题\n",
    "\n",
    "$m$ 个外籍飞行员和 $(n-m)$ 个英国飞行员进行二分图最大匹配。\n",
    "\n",
    "板子？"
   ]
  }
 ],
 "metadata": {
  "language_info": {
   "name": "python"
  }
 },
 "nbformat": 4,
 "nbformat_minor": 2
}
